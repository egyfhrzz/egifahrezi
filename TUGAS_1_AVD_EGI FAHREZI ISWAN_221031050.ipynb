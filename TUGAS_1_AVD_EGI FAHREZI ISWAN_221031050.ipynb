{
  "cells": [
    {
      "cell_type": "code",
      "execution_count": 1,
      "metadata": {
        "colab": {
          "base_uri": "https://localhost:8080/",
          "height": 1000
        },
        "id": "GpsuzDD53hKF",
        "outputId": "3a419ad0-b3d0-4748-aa5d-6cb71aefee16"
      },
      "outputs": [
        {
          "ename": "ModuleNotFoundError",
          "evalue": "No module named 'pandas'",
          "output_type": "error",
          "traceback": [
            "\u001b[31m---------------------------------------------------------------------------\u001b[39m",
            "\u001b[31mModuleNotFoundError\u001b[39m                       Traceback (most recent call last)",
            "\u001b[36mCell\u001b[39m\u001b[36m \u001b[39m\u001b[32mIn[1]\u001b[39m\u001b[32m, line 2\u001b[39m\n\u001b[32m      1\u001b[39m \u001b[38;5;66;03m# 1. Import Library\u001b[39;00m\n\u001b[32m----> \u001b[39m\u001b[32m2\u001b[39m \u001b[38;5;28;01mimport\u001b[39;00m\u001b[38;5;250m \u001b[39m\u001b[34;01mpandas\u001b[39;00m\u001b[38;5;250m \u001b[39m\u001b[38;5;28;01mas\u001b[39;00m\u001b[38;5;250m \u001b[39m\u001b[34;01mpd\u001b[39;00m\n\u001b[32m      3\u001b[39m \u001b[38;5;28;01mimport\u001b[39;00m\u001b[38;5;250m \u001b[39m\u001b[34;01mnumpy\u001b[39;00m\u001b[38;5;250m \u001b[39m\u001b[38;5;28;01mas\u001b[39;00m\u001b[38;5;250m \u001b[39m\u001b[34;01mnp\u001b[39;00m\n\u001b[32m      4\u001b[39m \u001b[38;5;28;01mimport\u001b[39;00m\u001b[38;5;250m \u001b[39m\u001b[34;01mseaborn\u001b[39;00m\u001b[38;5;250m \u001b[39m\u001b[38;5;28;01mas\u001b[39;00m\u001b[38;5;250m \u001b[39m\u001b[34;01msns\u001b[39;00m\n",
            "\u001b[31mModuleNotFoundError\u001b[39m: No module named 'pandas'"
          ]
        }
      ],
      "source": [
        "# 1. Import Library\n",
        "import pandas as pd\n",
        "import numpy as np\n",
        "import seaborn as sns\n",
        "import matplotlib.pyplot as plt\n",
        "from sklearn.model_selection import train_test_split\n",
        "from sklearn.linear_model import LinearRegression\n",
        "from sklearn.preprocessing import PolynomialFeatures\n",
        "from sklearn.metrics import mean_absolute_error, mean_squared_error, r2_score\n",
        "\n",
        "# 2. Import Data dalam format CSV\n",
        "from google.colab import files\n",
        "uploaded = files.upload()\n",
        "\n",
        "# Membaca file CSV (gantilah 'emisi.csv' dengan nama file yang diunggah)\n",
        "file_name = list(uploaded.keys())[0]\n",
        "df = pd.read_csv(file_name)\n",
        "\n",
        "# Menampilkan informasi dasar data\n",
        "df.info()\n",
        "display(df.head())\n",
        "\n",
        "# 3. Menghitung Matriks Korelasi\n",
        "correlation_matrix = df.corr()\n",
        "\n",
        "# Membuat heatmap korelasi\n",
        "plt.figure(figsize=(8, 6))\n",
        "sns.heatmap(correlation_matrix, annot=True, cmap=\"coolwarm\", fmt=\".2f\")\n",
        "plt.title(\"Matriks Korelasi\")\n",
        "plt.show()\n",
        "\n",
        "# 4. Membuat Model Regresi Sederhana (Menggunakan Kombinasi L/100 km sebagai prediktor)\n",
        "X = df[[\"kombinasi (L/100 km)\"]]\n",
        "y = df[\"Emisi CO2 (g/km)\"]\n",
        "X_train, X_test, y_train, y_test = train_test_split(X, y, test_size=0.2, random_state=42)\n",
        "\n",
        "model_lr = LinearRegression()\n",
        "model_lr.fit(X_train, y_train)\n",
        "y_pred_lr = model_lr.predict(X_test)\n",
        "\n",
        "# Evaluasi model regresi linear sederhana\n",
        "def evaluate_model(y_true, y_pred, model_name):\n",
        "    mae = mean_absolute_error(y_true, y_pred)\n",
        "    mse = mean_squared_error(y_true, y_pred)\n",
        "    rmse = np.sqrt(mse)\n",
        "    r2 = r2_score(y_true, y_pred)\n",
        "    return {\"Model\": model_name, \"MAE\": mae, \"MSE\": mse, \"RMSE\": rmse, \"R2 Score\": r2}\n",
        "\n",
        "result_lr = evaluate_model(y_test, y_pred_lr, \"Linear Regression\")\n",
        "print(result_lr)\n",
        "\n",
        "# 5. Eksplorasi Pengaruh Ville (L/100 km) ke Emisi CO2\n",
        "plt.figure(figsize=(8, 6))\n",
        "sns.regplot(x=df[\"Ville (L/100 km)\"], y=df[\"Emisi CO2 (g/km)\"], scatter_kws={\"alpha\": 0.5}, line_kws={\"color\": \"red\"})\n",
        "plt.xlabel(\"Ville (L/100 km)\")\n",
        "plt.ylabel(\"Emisi CO2 (g/km)\")\n",
        "plt.title(\"Pengaruh Ville (L/100 km) ke Emisi CO2 (Linear)\")\n",
        "plt.show()\n",
        "\n",
        "# 6. Evaluasi Model (Linear Regression sudah dievaluasi di atas)\n",
        "\n",
        "# 7. Membuat Model Regresi Polynomial\n",
        "degree = 2  # Bisa diubah sesuai kebutuhan\n",
        "poly = PolynomialFeatures(degree=degree)\n",
        "X_poly = poly.fit_transform(X)\n",
        "X_train_poly, X_test_poly, y_train, y_test = train_test_split(X_poly, y, test_size=0.2, random_state=42)\n",
        "\n",
        "model_poly = LinearRegression()\n",
        "model_poly.fit(X_train_poly, y_train)\n",
        "y_pred_poly = model_poly.predict(X_test_poly)\n",
        "\n",
        "# Evaluasi model regresi polynomial\n",
        "result_poly = evaluate_model(y_test, y_pred_poly, f\"Polynomial Regression (Degree {degree})\")\n",
        "print(result_poly)\n",
        "\n",
        "# Visualisasi hasil Polynomial Regression\n",
        "plt.figure(figsize=(8, 6))\n",
        "sns.scatterplot(x=X[\"kombinasi (L/100 km)\"], y=y, alpha=0.5, label=\"Actual\")\n",
        "sns.lineplot(x=X[\"kombinasi (L/100 km)\"].values.flatten(), y=model_poly.predict(poly.fit_transform(X)).flatten(), color='red', label=\"Polynomial Fit\")\n",
        "plt.xlabel(\"Ville(L/100 km)\")\n",
        "plt.ylabel(\"Emisi CO2 (g/km)\")\n",
        "plt.title(\"Pengaruh Ville (L/100 km) ke Emisi CO2 (Polynomial)\")\n",
        "plt.legend()\n",
        "plt.show()\n"
      ]
    },
    {
      "cell_type": "markdown",
      "metadata": {
        "id": "MM44FHGw4OZy"
      },
      "source": [
        "Penjelasan Output\n",
        "\n",
        "1. Tabel Data\n",
        "Tabel ini menunjukkan informasi tentang dataset dengan total 4 kolom:\n",
        "Ville (L/100 km): Ini adalah kolom dengan nilai float64, menunjukkan konsumsi bahan bakar dalam liter per 100 km untuk kendaraan.\n",
        "Route (L/100 km): Kolom ini juga bertipe float64, yang menggambarkan nilai konsumsi bahan bakar pada rute tertentu.\n",
        "kombinasi (L/100 km): Merupakan nilai float64 yang menunjukkan konsumsi bahan bakar dalam kombinasi (misalnya, kombinasi antara rute kota dan luar kota).\n",
        "Emisi CO2 (g/km): Kolom ini bertipe int64, menunjukkan emisi karbon dioksida dalam gram per kilometer.\n",
        "\n",
        "Data ini menunjukkan bahwa semua kolom memiliki nilai non-null, dan ukuran memori yang digunakan oleh dataframe adalah 20.2 KB.\n",
        "\n",
        "2. Matriks Korelasi\n",
        "Matriks korelasi adalah representasi yang menunjukkan hubungan antara variabel-variabel dalam dataset:\n",
        "Angka 1 menunjukkan korelasi sempurna antara dua variabel yang sama.\n",
        "Nilai mendekati 1 menunjukkan hubungan positif yang kuat, sedangkan nilai mendekati -1 menunjukkan hubungan negatif yang kuat.\n",
        "Dari matriks, terlihat bahwa semua variabel memiliki korelasi yang tinggi, terutama antara Ville dan Emisi CO2, dan antara kombinasi dan Emisi CO2.\n",
        "\n",
        "3. Pengaruh Ville (L/100 km) ke Emisi CO2 (Linear)\n",
        "Grafik ini menunjukkan hubungan linear antara konsumsi bahan bakar (Ville) dan emisi CO2:\n",
        "Sumbu X menunjukkan nilai Ville (L/100 km), sementara sumbu Y menunjukkan emisi CO2 (g/km).\n",
        "Titik-titik biru mewakili data aktual, sementara garis merah menunjukkan model regresi linear.\n",
        "Dari grafik, terlihat bahwa ada hubungan positif yang kuat, di mana peningkatan konsumsi bahan bakar diikuti dengan peningkatan emisi CO2.\n",
        "\n",
        "4. Pengaruh Ville (L/100 km) ke Emisi CO2 (Polynomial)\n",
        "Grafik ini mirip dengan grafik sebelumnya, tetapi menggunakan model regresi polinomial:\n",
        "Model polinomial sering kali lebih baik dalam menangkap hubungan yang tidak linier.\n",
        "Titik-titik biru tetap menunjukkan data aktual, sedangkan garis merah menunjukkan model regresi polinomial.\n",
        "Grafik ini menunjukkan bahwa model polinomial dapat menangkap fluktuasi data dengan lebih baik dibandingkan dengan model linear, dengan garis yang lebih sesuai dengan pola data.\n",
        "\n",
        "Secara keseluruhan, analisis ini menunjukkan bahwa konsumsi bahan bakar memiliki pengaruh signifikan terhadap emisi CO2, dan bahwa model polinomial dapat memberikan pemahaman yang lebih baik tentang hubungan tersebut."
      ]
    }
  ],
  "metadata": {
    "colab": {
      "provenance": []
    },
    "kernelspec": {
      "display_name": "Python 3",
      "name": "python3"
    },
    "language_info": {
      "codemirror_mode": {
        "name": "ipython",
        "version": 3
      },
      "file_extension": ".py",
      "mimetype": "text/x-python",
      "name": "python",
      "nbconvert_exporter": "python",
      "pygments_lexer": "ipython3",
      "version": "3.11.0"
    }
  },
  "nbformat": 4,
  "nbformat_minor": 0
}
